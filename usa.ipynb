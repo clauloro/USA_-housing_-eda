{
 "cells": [
  {
   "cell_type": "code",
   "execution_count": 1,
   "metadata": {},
   "outputs": [],
   "source": [
    "import pandas as pd\n",
    "import matplotlib.pyplot as plt\n",
    "import seaborn as sns\n",
    "import numpy as np"
   ]
  },
  {
   "cell_type": "code",
   "execution_count": 5,
   "metadata": {},
   "outputs": [
    {
     "name": "stdout",
     "output_type": "stream",
     "text": [
      "El dataset inicial es el siguiente:\n",
      "      Avg. Area Income  Avg. Area House Age  Avg. Area Number of Rooms  \\\n",
      "0         79545.458574             5.682861                   7.009188   \n",
      "1         79248.642455             6.002900                   6.730821   \n",
      "2         61287.067179             5.865890                   8.512727   \n",
      "3         63345.240046             7.188236                   5.586729   \n",
      "4         59982.197226             5.040555                   7.839388   \n",
      "...                ...                  ...                        ...   \n",
      "4995      60567.944140             7.830362                   6.137356   \n",
      "4996      78491.275435             6.999135                   6.576763   \n",
      "4997      63390.686886             7.250591                   4.805081   \n",
      "4998      68001.331235             5.534388                   7.130144   \n",
      "4999      65510.581804             5.992305                   6.792336   \n",
      "\n",
      "      Avg. Area Number of Bedrooms  Area Population         Price  \\\n",
      "0                             4.09     23086.800503  1.059034e+06   \n",
      "1                             3.09     40173.072174  1.505891e+06   \n",
      "2                             5.13     36882.159400  1.058988e+06   \n",
      "3                             3.26     34310.242831  1.260617e+06   \n",
      "4                             4.23     26354.109472  6.309435e+05   \n",
      "...                            ...              ...           ...   \n",
      "4995                          3.46     22837.361035  1.060194e+06   \n",
      "4996                          4.02     25616.115489  1.482618e+06   \n",
      "4997                          2.13     33266.145490  1.030730e+06   \n",
      "4998                          5.44     42625.620156  1.198657e+06   \n",
      "4999                          4.07     46501.283803  1.298950e+06   \n",
      "\n",
      "                                                Address  \n",
      "0     208 Michael Ferry Apt. 674\\r\\nLaurabury, NE 37...  \n",
      "1     188 Johnson Views Suite 079\\r\\nLake Kathleen, ...  \n",
      "2     9127 Elizabeth Stravenue\\r\\nDanieltown, WI 064...  \n",
      "3                           USS Barnett\\r\\nFPO AP 44820  \n",
      "4                          USNS Raymond\\r\\nFPO AE 09386  \n",
      "...                                                 ...  \n",
      "4995                 USNS Williams\\r\\nFPO AP 30153-7653  \n",
      "4996            PSC 9258, Box 8489\\r\\nAPO AA 42991-3352  \n",
      "4997  4215 Tracy Garden Suite 076\\r\\nJoshualand, VA ...  \n",
      "4998                        USS Wallace\\r\\nFPO AE 73316  \n",
      "4999  37778 George Ridges Apt. 509\\r\\nEast Holly, NV...  \n",
      "\n",
      "[5000 rows x 7 columns] \n",
      "\n"
     ]
    }
   ],
   "source": [
    "data = pd.read_csv('USA_Housing.csv', sep = ',')\n",
    "print(\"El dataset inicial es el siguiente:\")\n",
    "print(data, \"\\n\")"
   ]
  },
  {
   "cell_type": "code",
   "execution_count": 6,
   "metadata": {},
   "outputs": [
    {
     "name": "stdout",
     "output_type": "stream",
     "text": [
      "Index(['Avg. Area Income', 'Avg. Area House Age', 'Avg. Area Number of Rooms',\n",
      "       'Avg. Area Number of Bedrooms', 'Area Population', 'Price', 'Address'],\n",
      "      dtype='object') \n",
      "\n",
      "Realizamos el cambio de inglés a español:\n",
      "Index(['Ingreso_Promedio', 'Edad_Promedio_Casa', 'Num_Habitaciones_Promedio',\n",
      "       'Num_Dormitorios_Promedio', 'Poblacion_Area', 'Precio', 'Direccion'],\n",
      "      dtype='object') \n",
      "\n"
     ]
    }
   ],
   "source": [
    "print(data.columns, \"\\n\")\n",
    "print(\"Realizamos el cambio de inglés a español:\")\n",
    "columnas_esp =  {'Avg. Area Income': 'Ingreso_Promedio',\n",
    "                 'Avg. Area House Age': 'Edad_Promedio_Casa',\n",
    "                 'Avg. Area Number of Rooms': 'Num_Habitaciones_Promedio',\n",
    "                 'Avg. Area Number of Bedrooms': 'Num_Dormitorios_Promedio',\n",
    "                 'Area Population': 'Poblacion_Area',\n",
    "                 'Price': 'Precio',\n",
    "                 'Address': 'Direccion'}\n",
    "data.rename(columns=columnas_esp, inplace=True)\n",
    "print(data.columns, \"\\n\")"
   ]
  }
 ],
 "metadata": {
  "kernelspec": {
   "display_name": "Python 3",
   "language": "python",
   "name": "python3"
  },
  "language_info": {
   "codemirror_mode": {
    "name": "ipython",
    "version": 3
   },
   "file_extension": ".py",
   "mimetype": "text/x-python",
   "name": "python",
   "nbconvert_exporter": "python",
   "pygments_lexer": "ipython3",
   "version": "3.10.11"
  },
  "orig_nbformat": 4
 },
 "nbformat": 4,
 "nbformat_minor": 2
}
